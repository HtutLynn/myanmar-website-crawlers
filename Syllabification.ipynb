{
 "cells": [
  {
   "cell_type": "code",
   "execution_count": 61,
   "metadata": {},
   "outputs": [],
   "source": [
    "import re\n",
    "\n",
    "myConsonant = \"က-အ\"\n",
    "enChar = \"a-zA-Z0-9\"\n",
    "otherChar = \"ဣဤဥဦဧဩဪဿ၌၍၏၀-၉၊။!-/:-@[-`{-~\\s\"\n",
    "follow = \"ြျွှုိာါေ\" \n",
    "ssSymbol = '္'\n",
    "ngaThat = 'င်'\n",
    "aThat = '်'\n",
    "#subscript symbol\n",
    "\n",
    "# The word structure in Burmese is complicated but the formating of it follows the pattern of consonant + (medial consonant) + vowel.\n",
    "# So in this case 'ေ' even though it appears in front of the consonant visually, the formating of it follows the word structure above.\n",
    "# And hence the 'follow' variable has 'ေ' along with other characters that follows the consonant.\n",
    "\n",
    "BreakPattern = re.compile(r\"([\"+myConsonant+ r\"][\" + follow + r\"]*([\" + \n",
    "                          myConsonant + r\"]\" + \n",
    "                          aThat + r\")*)\", re.UNICODE)\n",
    "\n",
    "# sylbreak function ဆောက်တဲ့ အပိုင်း\n",
    "def sylbreak1(line):\n",
    "       line = re.sub(r\"\\s+\",\"\", line) # remove the space if there is any\n",
    "       print(line,\" ff\")\n",
    "       line = BreakPattern.sub(r\"  \" + r\"\\1\", line) # insert a double whitespace after every word identified\n",
    "       return line"
   ]
  },
  {
   "cell_type": "code",
   "execution_count": 62,
   "metadata": {},
   "outputs": [
    {
     "name": "stdout",
     "output_type": "stream",
     "text": [
      "Please, enter text  သေတ္တာနှင့်အတူကျောင်းသားများနန်းတော်မှာကြီးမားတဲ့ခေါင်းလောင်းအတွင်းမှဖြစ်ကြသည်။ မင်္ဂလာနံနက်ခင်းပါ။ ကြည်နူးဖွယ်ငှက်ကုလားအုတ်ဝင်ရိုးစွန်းလှိုင်းရုပ်သံလိုင်းကပြောပါတယ်။\n",
      "သေတ္တာနှင့်အတူကျောင်းသားများနန်းတော်မှာကြီးမားတဲ့ခေါင်းလောင်းအတွင်းမှဖြစ်ကြသည်။မင်္ဂလာနံနက်ခင်းပါ။ကြည်နူးဖွယ်ငှက်ကုလားအုတ်ဝင်ရိုးစွန်းလှိုင်းရုပ်သံလိုင်းကပြောပါတယ်။  ff\n"
     ]
    },
    {
     "data": {
      "text/plain": [
       "'  သေ  တ္  တာ  နှင့်  အ  တူ  ကျောင်း  သား  များ  နန်း  တော်  မှာ  ကြီး  မား  တဲ့  ခေါင်း  လောင်း  အ  တွင်း  မှ  ဖြစ်  ကြ  သည်။  မင်္  ဂ  လာ  နံ  နက်  ခင်း  ပါ။  ကြည်  နူး  ဖွယ်  ငှက်  ကု  လား  အုတ်  ဝင်  ရိုး  စွန်း  လှိုင်း  ရုပ်  သံ  လိုင်း  က  ပြော  ပါ  တယ်။'"
      ]
     },
     "execution_count": 62,
     "metadata": {},
     "output_type": "execute_result"
    }
   ],
   "source": [
    " name = input (\"Please, enter text \")\n",
    "sylbreak1(name)"
   ]
  },
  {
   "cell_type": "code",
   "execution_count": 18,
   "metadata": {},
   "outputs": [
    {
     "name": "stdout",
     "output_type": "stream",
     "text": [
      "re.compile('ab*')\n",
      "re.compile('ab*', re.IGNORECASE)\n"
     ]
    }
   ],
   "source": [
    "import re\n",
    "p = re.compile('ab*')\n",
    "print( p)\n",
    "re.compile('ab*')\n",
    "p = re.compile('ab*', re.IGNORECASE)\n",
    "print( p)"
   ]
  },
  {
   "cell_type": "code",
   "execution_count": 7,
   "metadata": {},
   "outputs": [
    {
     "name": "stdout",
     "output_type": "stream",
     "text": [
      "Python for beginner is a very good website   Python for beginner is a very cool website\n"
     ]
    }
   ],
   "source": [
    "import re\n",
    "text = \"Python for beginner is a very cool website\"\n",
    "pattern = re.sub(\"cool\", \"good\", text)\n",
    "print(pattern,\" \",text)"
   ]
  },
  {
   "cell_type": "code",
   "execution_count": 22,
   "metadata": {},
   "outputs": [
    {
     "name": "stdout",
     "output_type": "stream",
     "text": [
      "Please, enter your name: 222\n",
      "Please enter your name correctly!\n",
      "Please, enter your name: 33\n",
      "Please enter your name correctly!\n",
      "Please, enter your name: yu\n"
     ]
    }
   ],
   "source": [
    "import re\n",
    "\n",
    "name_check = re.compile(r\"[^A-Za-zs.]\")\n",
    "\n",
    "name = input (\"Please, enter your name: \")\n",
    "\n",
    "while name_check.search(name):\n",
    "    print(\"Please enter your name correctly!\")\n",
    "    name = input (\"Please, enter your name: \")"
   ]
  },
  {
   "cell_type": "code",
   "execution_count": 28,
   "metadata": {},
   "outputs": [
    {
     "name": "stdout",
     "output_type": "stream",
     "text": [
      "Please, enter your phone: s\n",
      "Please enter your phone correctly!\n",
      "Please, enter your phone: 5798779\n"
     ]
    }
   ],
   "source": [
    "import re\n",
    "\n",
    "phone_check = re.compile(r\"[^0-9-()]\")\n",
    "\n",
    "phone = input (\"Please, enter your phone: \")\n",
    "\n",
    "while phone_check.search(phone):\n",
    "    print (\"Please enter your phone correctly!\")\n",
    "    phone = input (\"Please, enter your phone: \")"
   ]
  },
  {
   "cell_type": "code",
   "execution_count": 34,
   "metadata": {},
   "outputs": [
    {
     "name": "stdout",
     "output_type": "stream",
     "text": [
      "Python FOUND\n",
      "Perl FOUND\n",
      "PHP FOUND\n",
      "C++ NOT FOUND\n"
     ]
    }
   ],
   "source": [
    "import re\n",
    "programming = [\"Python\", \"Perl\", \"PHP\", \"C++\"]\n",
    "\n",
    "pat = \"^B|^P|i$|H$\"\n",
    "\n",
    "for lang in programming:\n",
    "    \n",
    "    if re.search(pat,lang,re.IGNORECASE):\n",
    "        print (lang , \"FOUND\")\n",
    "    \n",
    "    else:\n",
    "        print (lang, \"NOT FOUND\")"
   ]
  },
  {
   "cell_type": "code",
   "execution_count": 36,
   "metadata": {},
   "outputs": [
    {
     "name": "stdout",
     "output_type": "stream",
     "text": [
      "did not find\n"
     ]
    }
   ],
   "source": [
    "str = 'an example word:cat!!'\n",
    "\n",
    "match = re.search(r'word:www', str)\n",
    "\n",
    "# If-statement after search() tests if it succeeded\n",
    "if match:                      \n",
    "    print ('found', match.group()) ## 'found word:cat'\n",
    "\n",
    "else:\n",
    "    print ('did not find')"
   ]
  },
  {
   "cell_type": "code",
   "execution_count": null,
   "metadata": {},
   "outputs": [],
   "source": []
  }
 ],
 "metadata": {
  "kernelspec": {
   "display_name": "Python 3",
   "language": "python",
   "name": "python3"
  },
  "language_info": {
   "codemirror_mode": {
    "name": "ipython",
    "version": 3
   },
   "file_extension": ".py",
   "mimetype": "text/x-python",
   "name": "python",
   "nbconvert_exporter": "python",
   "pygments_lexer": "ipython3",
   "version": "3.7.0"
  }
 },
 "nbformat": 4,
 "nbformat_minor": 2
}
